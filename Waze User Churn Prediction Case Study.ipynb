{
 "cells": [
  {
   "cell_type": "markdown",
   "id": "1a6d4808",
   "metadata": {},
   "source": [
    "# Waze User Churn Prediction Case Study"
   ]
  },
  {
   "cell_type": "code",
   "execution_count": 1,
   "id": "fa927aa4",
   "metadata": {},
   "outputs": [],
   "source": [
    "# Import required libraries\n",
    "import pandas as pd\n",
    "import numpy as np\n",
    "import matplotlib.pyplot as plt\n",
    "import seaborn as sns"
   ]
  },
  {
   "cell_type": "code",
   "execution_count": 2,
   "id": "f7daeaf9",
   "metadata": {},
   "outputs": [
    {
     "data": {
      "text/html": [
       "<div>\n",
       "<style scoped>\n",
       "    .dataframe tbody tr th:only-of-type {\n",
       "        vertical-align: middle;\n",
       "    }\n",
       "\n",
       "    .dataframe tbody tr th {\n",
       "        vertical-align: top;\n",
       "    }\n",
       "\n",
       "    .dataframe thead th {\n",
       "        text-align: right;\n",
       "    }\n",
       "</style>\n",
       "<table border=\"1\" class=\"dataframe\">\n",
       "  <thead>\n",
       "    <tr style=\"text-align: right;\">\n",
       "      <th></th>\n",
       "      <th>ID</th>\n",
       "      <th>label</th>\n",
       "      <th>sessions</th>\n",
       "      <th>drives</th>\n",
       "      <th>total_sessions</th>\n",
       "      <th>n_days_after_onboarding</th>\n",
       "      <th>total_navigations_fav1</th>\n",
       "      <th>total_navigations_fav2</th>\n",
       "      <th>driven_km_drives</th>\n",
       "      <th>duration_minutes_drives</th>\n",
       "      <th>activity_days</th>\n",
       "      <th>driving_days</th>\n",
       "      <th>device</th>\n",
       "    </tr>\n",
       "  </thead>\n",
       "  <tbody>\n",
       "    <tr>\n",
       "      <th>0</th>\n",
       "      <td>0</td>\n",
       "      <td>retained</td>\n",
       "      <td>283</td>\n",
       "      <td>226</td>\n",
       "      <td>296.748273</td>\n",
       "      <td>2276</td>\n",
       "      <td>208</td>\n",
       "      <td>0</td>\n",
       "      <td>2628.845068</td>\n",
       "      <td>1985.775061</td>\n",
       "      <td>28</td>\n",
       "      <td>19</td>\n",
       "      <td>Android</td>\n",
       "    </tr>\n",
       "    <tr>\n",
       "      <th>1</th>\n",
       "      <td>1</td>\n",
       "      <td>retained</td>\n",
       "      <td>133</td>\n",
       "      <td>107</td>\n",
       "      <td>326.896596</td>\n",
       "      <td>1225</td>\n",
       "      <td>19</td>\n",
       "      <td>64</td>\n",
       "      <td>13715.920550</td>\n",
       "      <td>3160.472914</td>\n",
       "      <td>13</td>\n",
       "      <td>11</td>\n",
       "      <td>iPhone</td>\n",
       "    </tr>\n",
       "    <tr>\n",
       "      <th>2</th>\n",
       "      <td>2</td>\n",
       "      <td>retained</td>\n",
       "      <td>114</td>\n",
       "      <td>95</td>\n",
       "      <td>135.522926</td>\n",
       "      <td>2651</td>\n",
       "      <td>0</td>\n",
       "      <td>0</td>\n",
       "      <td>3059.148818</td>\n",
       "      <td>1610.735904</td>\n",
       "      <td>14</td>\n",
       "      <td>8</td>\n",
       "      <td>Android</td>\n",
       "    </tr>\n",
       "    <tr>\n",
       "      <th>3</th>\n",
       "      <td>3</td>\n",
       "      <td>retained</td>\n",
       "      <td>49</td>\n",
       "      <td>40</td>\n",
       "      <td>67.589221</td>\n",
       "      <td>15</td>\n",
       "      <td>322</td>\n",
       "      <td>7</td>\n",
       "      <td>913.591123</td>\n",
       "      <td>587.196542</td>\n",
       "      <td>7</td>\n",
       "      <td>3</td>\n",
       "      <td>iPhone</td>\n",
       "    </tr>\n",
       "    <tr>\n",
       "      <th>4</th>\n",
       "      <td>4</td>\n",
       "      <td>retained</td>\n",
       "      <td>84</td>\n",
       "      <td>68</td>\n",
       "      <td>168.247020</td>\n",
       "      <td>1562</td>\n",
       "      <td>166</td>\n",
       "      <td>5</td>\n",
       "      <td>3950.202008</td>\n",
       "      <td>1219.555924</td>\n",
       "      <td>27</td>\n",
       "      <td>18</td>\n",
       "      <td>Android</td>\n",
       "    </tr>\n",
       "  </tbody>\n",
       "</table>\n",
       "</div>"
      ],
      "text/plain": [
       "   ID     label  sessions  drives  total_sessions  n_days_after_onboarding  \\\n",
       "0   0  retained       283     226      296.748273                     2276   \n",
       "1   1  retained       133     107      326.896596                     1225   \n",
       "2   2  retained       114      95      135.522926                     2651   \n",
       "3   3  retained        49      40       67.589221                       15   \n",
       "4   4  retained        84      68      168.247020                     1562   \n",
       "\n",
       "   total_navigations_fav1  total_navigations_fav2  driven_km_drives  \\\n",
       "0                     208                       0       2628.845068   \n",
       "1                      19                      64      13715.920550   \n",
       "2                       0                       0       3059.148818   \n",
       "3                     322                       7        913.591123   \n",
       "4                     166                       5       3950.202008   \n",
       "\n",
       "   duration_minutes_drives  activity_days  driving_days   device  \n",
       "0              1985.775061             28            19  Android  \n",
       "1              3160.472914             13            11   iPhone  \n",
       "2              1610.735904             14             8  Android  \n",
       "3               587.196542              7             3   iPhone  \n",
       "4              1219.555924             27            18  Android  "
      ]
     },
     "execution_count": 2,
     "metadata": {},
     "output_type": "execute_result"
    }
   ],
   "source": [
    "# Load the dataset\n",
    "data = pd.read_csv(\"waze_dataset.csv\")\n",
    "data.head()"
   ]
  },
  {
   "cell_type": "code",
   "execution_count": 3,
   "id": "87f25e68",
   "metadata": {},
   "outputs": [
    {
     "name": "stdout",
     "output_type": "stream",
     "text": [
      "<class 'pandas.core.frame.DataFrame'>\n",
      "RangeIndex: 14999 entries, 0 to 14998\n",
      "Data columns (total 13 columns):\n",
      " #   Column                   Non-Null Count  Dtype  \n",
      "---  ------                   --------------  -----  \n",
      " 0   ID                       14999 non-null  int64  \n",
      " 1   label                    14299 non-null  object \n",
      " 2   sessions                 14999 non-null  int64  \n",
      " 3   drives                   14999 non-null  int64  \n",
      " 4   total_sessions           14999 non-null  float64\n",
      " 5   n_days_after_onboarding  14999 non-null  int64  \n",
      " 6   total_navigations_fav1   14999 non-null  int64  \n",
      " 7   total_navigations_fav2   14999 non-null  int64  \n",
      " 8   driven_km_drives         14999 non-null  float64\n",
      " 9   duration_minutes_drives  14999 non-null  float64\n",
      " 10  activity_days            14999 non-null  int64  \n",
      " 11  driving_days             14999 non-null  int64  \n",
      " 12  device                   14999 non-null  object \n",
      "dtypes: float64(3), int64(8), object(2)\n",
      "memory usage: 1.5+ MB\n"
     ]
    }
   ],
   "source": [
    "data.info()"
   ]
  },
  {
   "cell_type": "code",
   "execution_count": 4,
   "id": "5276657d",
   "metadata": {},
   "outputs": [
    {
     "data": {
      "text/html": [
       "<div>\n",
       "<style scoped>\n",
       "    .dataframe tbody tr th:only-of-type {\n",
       "        vertical-align: middle;\n",
       "    }\n",
       "\n",
       "    .dataframe tbody tr th {\n",
       "        vertical-align: top;\n",
       "    }\n",
       "\n",
       "    .dataframe thead th {\n",
       "        text-align: right;\n",
       "    }\n",
       "</style>\n",
       "<table border=\"1\" class=\"dataframe\">\n",
       "  <thead>\n",
       "    <tr style=\"text-align: right;\">\n",
       "      <th></th>\n",
       "      <th>ID</th>\n",
       "      <th>sessions</th>\n",
       "      <th>drives</th>\n",
       "      <th>total_sessions</th>\n",
       "      <th>n_days_after_onboarding</th>\n",
       "      <th>total_navigations_fav1</th>\n",
       "      <th>total_navigations_fav2</th>\n",
       "      <th>driven_km_drives</th>\n",
       "      <th>duration_minutes_drives</th>\n",
       "      <th>activity_days</th>\n",
       "      <th>driving_days</th>\n",
       "    </tr>\n",
       "  </thead>\n",
       "  <tbody>\n",
       "    <tr>\n",
       "      <th>count</th>\n",
       "      <td>14999.000000</td>\n",
       "      <td>14999.000000</td>\n",
       "      <td>14999.000000</td>\n",
       "      <td>14999.000000</td>\n",
       "      <td>14999.000000</td>\n",
       "      <td>14999.000000</td>\n",
       "      <td>14999.000000</td>\n",
       "      <td>14999.000000</td>\n",
       "      <td>14999.000000</td>\n",
       "      <td>14999.000000</td>\n",
       "      <td>14999.000000</td>\n",
       "    </tr>\n",
       "    <tr>\n",
       "      <th>mean</th>\n",
       "      <td>7499.000000</td>\n",
       "      <td>80.633776</td>\n",
       "      <td>67.281152</td>\n",
       "      <td>189.964447</td>\n",
       "      <td>1749.837789</td>\n",
       "      <td>121.605974</td>\n",
       "      <td>29.672512</td>\n",
       "      <td>4039.340921</td>\n",
       "      <td>1860.976012</td>\n",
       "      <td>15.537102</td>\n",
       "      <td>12.179879</td>\n",
       "    </tr>\n",
       "    <tr>\n",
       "      <th>std</th>\n",
       "      <td>4329.982679</td>\n",
       "      <td>80.699065</td>\n",
       "      <td>65.913872</td>\n",
       "      <td>136.405128</td>\n",
       "      <td>1008.513876</td>\n",
       "      <td>148.121544</td>\n",
       "      <td>45.394651</td>\n",
       "      <td>2502.149334</td>\n",
       "      <td>1446.702288</td>\n",
       "      <td>9.004655</td>\n",
       "      <td>7.824036</td>\n",
       "    </tr>\n",
       "    <tr>\n",
       "      <th>min</th>\n",
       "      <td>0.000000</td>\n",
       "      <td>0.000000</td>\n",
       "      <td>0.000000</td>\n",
       "      <td>0.220211</td>\n",
       "      <td>4.000000</td>\n",
       "      <td>0.000000</td>\n",
       "      <td>0.000000</td>\n",
       "      <td>60.441250</td>\n",
       "      <td>18.282082</td>\n",
       "      <td>0.000000</td>\n",
       "      <td>0.000000</td>\n",
       "    </tr>\n",
       "    <tr>\n",
       "      <th>25%</th>\n",
       "      <td>3749.500000</td>\n",
       "      <td>23.000000</td>\n",
       "      <td>20.000000</td>\n",
       "      <td>90.661156</td>\n",
       "      <td>878.000000</td>\n",
       "      <td>9.000000</td>\n",
       "      <td>0.000000</td>\n",
       "      <td>2212.600607</td>\n",
       "      <td>835.996260</td>\n",
       "      <td>8.000000</td>\n",
       "      <td>5.000000</td>\n",
       "    </tr>\n",
       "    <tr>\n",
       "      <th>50%</th>\n",
       "      <td>7499.000000</td>\n",
       "      <td>56.000000</td>\n",
       "      <td>48.000000</td>\n",
       "      <td>159.568115</td>\n",
       "      <td>1741.000000</td>\n",
       "      <td>71.000000</td>\n",
       "      <td>9.000000</td>\n",
       "      <td>3493.858085</td>\n",
       "      <td>1478.249859</td>\n",
       "      <td>16.000000</td>\n",
       "      <td>12.000000</td>\n",
       "    </tr>\n",
       "    <tr>\n",
       "      <th>75%</th>\n",
       "      <td>11248.500000</td>\n",
       "      <td>112.000000</td>\n",
       "      <td>93.000000</td>\n",
       "      <td>254.192341</td>\n",
       "      <td>2623.500000</td>\n",
       "      <td>178.000000</td>\n",
       "      <td>43.000000</td>\n",
       "      <td>5289.861262</td>\n",
       "      <td>2464.362632</td>\n",
       "      <td>23.000000</td>\n",
       "      <td>19.000000</td>\n",
       "    </tr>\n",
       "    <tr>\n",
       "      <th>max</th>\n",
       "      <td>14998.000000</td>\n",
       "      <td>743.000000</td>\n",
       "      <td>596.000000</td>\n",
       "      <td>1216.154633</td>\n",
       "      <td>3500.000000</td>\n",
       "      <td>1236.000000</td>\n",
       "      <td>415.000000</td>\n",
       "      <td>21183.401890</td>\n",
       "      <td>15851.727160</td>\n",
       "      <td>31.000000</td>\n",
       "      <td>30.000000</td>\n",
       "    </tr>\n",
       "  </tbody>\n",
       "</table>\n",
       "</div>"
      ],
      "text/plain": [
       "                 ID      sessions        drives  total_sessions  \\\n",
       "count  14999.000000  14999.000000  14999.000000    14999.000000   \n",
       "mean    7499.000000     80.633776     67.281152      189.964447   \n",
       "std     4329.982679     80.699065     65.913872      136.405128   \n",
       "min        0.000000      0.000000      0.000000        0.220211   \n",
       "25%     3749.500000     23.000000     20.000000       90.661156   \n",
       "50%     7499.000000     56.000000     48.000000      159.568115   \n",
       "75%    11248.500000    112.000000     93.000000      254.192341   \n",
       "max    14998.000000    743.000000    596.000000     1216.154633   \n",
       "\n",
       "       n_days_after_onboarding  total_navigations_fav1  \\\n",
       "count             14999.000000            14999.000000   \n",
       "mean               1749.837789              121.605974   \n",
       "std                1008.513876              148.121544   \n",
       "min                   4.000000                0.000000   \n",
       "25%                 878.000000                9.000000   \n",
       "50%                1741.000000               71.000000   \n",
       "75%                2623.500000              178.000000   \n",
       "max                3500.000000             1236.000000   \n",
       "\n",
       "       total_navigations_fav2  driven_km_drives  duration_minutes_drives  \\\n",
       "count            14999.000000      14999.000000             14999.000000   \n",
       "mean                29.672512       4039.340921              1860.976012   \n",
       "std                 45.394651       2502.149334              1446.702288   \n",
       "min                  0.000000         60.441250                18.282082   \n",
       "25%                  0.000000       2212.600607               835.996260   \n",
       "50%                  9.000000       3493.858085              1478.249859   \n",
       "75%                 43.000000       5289.861262              2464.362632   \n",
       "max                415.000000      21183.401890             15851.727160   \n",
       "\n",
       "       activity_days  driving_days  \n",
       "count   14999.000000  14999.000000  \n",
       "mean       15.537102     12.179879  \n",
       "std         9.004655      7.824036  \n",
       "min         0.000000      0.000000  \n",
       "25%         8.000000      5.000000  \n",
       "50%        16.000000     12.000000  \n",
       "75%        23.000000     19.000000  \n",
       "max        31.000000     30.000000  "
      ]
     },
     "execution_count": 4,
     "metadata": {},
     "output_type": "execute_result"
    }
   ],
   "source": [
    "data.describe()"
   ]
  },
  {
   "cell_type": "code",
   "execution_count": 5,
   "id": "333e4ddc",
   "metadata": {},
   "outputs": [
    {
     "data": {
      "text/plain": [
       "count    14999.000000\n",
       "mean      4039.340921\n",
       "std       2502.149334\n",
       "min         60.441250\n",
       "25%       2212.600607\n",
       "50%       3493.858085\n",
       "75%       5289.861262\n",
       "max      21183.401890\n",
       "Name: driven_km_drives, dtype: float64"
      ]
     },
     "execution_count": 5,
     "metadata": {},
     "output_type": "execute_result"
    }
   ],
   "source": [
    "#exploring our target. since we want to know the kilometer a car can cover\n",
    "data['driven_km_drives'].describe()"
   ]
  },
  {
   "cell_type": "code",
   "execution_count": 6,
   "id": "84b3945d",
   "metadata": {},
   "outputs": [
    {
     "data": {
      "text/plain": [
       "ID                           0\n",
       "label                      700\n",
       "sessions                     0\n",
       "drives                       0\n",
       "total_sessions               0\n",
       "n_days_after_onboarding      0\n",
       "total_navigations_fav1       0\n",
       "total_navigations_fav2       0\n",
       "driven_km_drives             0\n",
       "duration_minutes_drives      0\n",
       "activity_days                0\n",
       "driving_days                 0\n",
       "device                       0\n",
       "dtype: int64"
      ]
     },
     "execution_count": 6,
     "metadata": {},
     "output_type": "execute_result"
    }
   ],
   "source": [
    "# check for missing data\n",
    "data.isna().sum()"
   ]
  },
  {
   "cell_type": "code",
   "execution_count": 7,
   "id": "ef35f4cf",
   "metadata": {},
   "outputs": [
    {
     "data": {
      "text/plain": [
       "0"
      ]
     },
     "execution_count": 7,
     "metadata": {},
     "output_type": "execute_result"
    }
   ],
   "source": [
    "# check for duplicates in our dataset\n",
    "data.duplicated().sum()"
   ]
  },
  {
   "cell_type": "code",
   "execution_count": 9,
   "id": "372b07e0",
   "metadata": {},
   "outputs": [
    {
     "data": {
      "text/plain": [
       "ID                         14999\n",
       "label                          2\n",
       "sessions                     469\n",
       "drives                       401\n",
       "total_sessions             14999\n",
       "n_days_after_onboarding     3441\n",
       "total_navigations_fav1       730\n",
       "total_navigations_fav2       287\n",
       "driven_km_drives           14999\n",
       "duration_minutes_drives    14999\n",
       "activity_days                 32\n",
       "driving_days                  31\n",
       "device                         2\n",
       "dtype: int64"
      ]
     },
     "execution_count": 9,
     "metadata": {},
     "output_type": "execute_result"
    }
   ],
   "source": [
    "data.nunique()"
   ]
  },
  {
   "cell_type": "code",
   "execution_count": 14,
   "id": "17aa8c7c",
   "metadata": {},
   "outputs": [
    {
     "data": {
      "image/png": "[encoded data removed]",
      "text/plain": [
       "<Figure size 500x100 with 1 Axes>"
      ]
     },
     "metadata": {},
     "output_type": "display_data"
    },
    {
     "data": {
      "image/png": "[encoded data removed]",
      "text/plain": [
       "<Figure size 500x300 with 1 Axes>"
      ]
     },
     "metadata": {},
     "output_type": "display_data"
    }
   ],
   "source": [
    "\n",
    "plt.figure(figsize=(5,1))\n",
    "g = sns.boxplot(data=data, x='driven_km_drives')\n",
    "plt.title(\"Distribution of target feature\")\n",
    "plt.show()\n",
    "\n",
    "plt.figure(figsize=(5,3))\n",
    "plt.hist(data[\"driven_km_drives\"])\n",
    "plt.xlabel('total kilometers driven')\n",
    "plt.ylabel('count')\n",
    "plt.title(\"Histogram\")\n",
    "median = data[\"driven_km_drives\"].median()\n",
    "plt.axvline(median, color=\"yellow\", linestyle=\"--\")\n",
    "plt.text(5000, 5000, 'median='+str(median), color=\"black\")\n",
    "plt.show()"
   ]
  },
  {
   "cell_type": "code",
   "execution_count": 15,
   "id": "8c553e8d",
   "metadata": {},
   "outputs": [
    {
     "data": {
      "text/plain": [
       "retained    11763\n",
       "churned      2536\n",
       "Name: label, dtype: int64"
      ]
     },
     "execution_count": 15,
     "metadata": {},
     "output_type": "execute_result"
    }
   ],
   "source": [
    "# let's see the label distribution since we have missing features there\n",
    "data['label'].value_counts()"
   ]
  },
  {
   "cell_type": "code",
   "execution_count": 16,
   "id": "f73cd815",
   "metadata": {},
   "outputs": [
    {
     "data": {
      "image/png": "[encoded data removed]",
      "text/plain": [
       "<Figure size 640x480 with 1 Axes>"
      ]
     },
     "metadata": {},
     "output_type": "display_data"
    }
   ],
   "source": [
    "data['label'].value_counts().plot(kind='pie');"
   ]
  },
  {
   "cell_type": "markdown",
   "id": "45181429",
   "metadata": {},
   "source": [
    "# Observations\n",
    "\n",
    "- missing features in the label variable\n",
    "- the presence of outliers can be observed in our target features"
   ]
  },
  {
   "cell_type": "code",
   "execution_count": 17,
   "id": "20776432",
   "metadata": {},
   "outputs": [],
   "source": [
    "# Drop missing features\n",
    "data.dropna(inplace=True)"
   ]
  },
  {
   "cell_type": "code",
   "execution_count": 18,
   "id": "0d16a7c3",
   "metadata": {},
   "outputs": [
    {
     "data": {
      "text/plain": [
       "ID                         0\n",
       "label                      0\n",
       "sessions                   0\n",
       "drives                     0\n",
       "total_sessions             0\n",
       "n_days_after_onboarding    0\n",
       "total_navigations_fav1     0\n",
       "total_navigations_fav2     0\n",
       "driven_km_drives           0\n",
       "duration_minutes_drives    0\n",
       "activity_days              0\n",
       "driving_days               0\n",
       "device                     0\n",
       "dtype: int64"
      ]
     },
     "execution_count": 18,
     "metadata": {},
     "output_type": "execute_result"
    }
   ],
   "source": [
    "data.isnull().sum()"
   ]
  },
  {
   "cell_type": "code",
   "execution_count": 26,
   "id": "af3916e0",
   "metadata": {},
   "outputs": [],
   "source": [
    "# in cleaning our dataset we can also drop redundant dataset after checking for missing data and outliers, and duplicates\n",
    "\n",
    "data.drop(\"ID\", axis=1, inplace=True)"
   ]
  },
  {
   "cell_type": "code",
   "execution_count": 23,
   "id": "e83845c8",
   "metadata": {},
   "outputs": [
    {
     "data": {
      "text/html": [
       "<div>\n",
       "<style scoped>\n",
       "    .dataframe tbody tr th:only-of-type {\n",
       "        vertical-align: middle;\n",
       "    }\n",
       "\n",
       "    .dataframe tbody tr th {\n",
       "        vertical-align: top;\n",
       "    }\n",
       "\n",
       "    .dataframe thead th {\n",
       "        text-align: right;\n",
       "    }\n",
       "</style>\n",
       "<table border=\"1\" class=\"dataframe\">\n",
       "  <thead>\n",
       "    <tr style=\"text-align: right;\">\n",
       "      <th></th>\n",
       "      <th>label</th>\n",
       "      <th>sessions</th>\n",
       "      <th>drives</th>\n",
       "      <th>total_sessions</th>\n",
       "      <th>n_days_after_onboarding</th>\n",
       "      <th>total_navigations_fav1</th>\n",
       "      <th>total_navigations_fav2</th>\n",
       "      <th>driven_km_drives</th>\n",
       "      <th>duration_minutes_drives</th>\n",
       "      <th>activity_days</th>\n",
       "      <th>driving_days</th>\n",
       "      <th>device</th>\n",
       "    </tr>\n",
       "  </thead>\n",
       "  <tbody>\n",
       "    <tr>\n",
       "      <th>0</th>\n",
       "      <td>retained</td>\n",
       "      <td>283</td>\n",
       "      <td>226</td>\n",
       "      <td>296.748273</td>\n",
       "      <td>2276</td>\n",
       "      <td>208</td>\n",
       "      <td>0</td>\n",
       "      <td>2628.845068</td>\n",
       "      <td>1985.775061</td>\n",
       "      <td>28</td>\n",
       "      <td>19</td>\n",
       "      <td>Android</td>\n",
       "    </tr>\n",
       "    <tr>\n",
       "      <th>1</th>\n",
       "      <td>retained</td>\n",
       "      <td>133</td>\n",
       "      <td>107</td>\n",
       "      <td>326.896596</td>\n",
       "      <td>1225</td>\n",
       "      <td>19</td>\n",
       "      <td>64</td>\n",
       "      <td>13715.920550</td>\n",
       "      <td>3160.472914</td>\n",
       "      <td>13</td>\n",
       "      <td>11</td>\n",
       "      <td>iPhone</td>\n",
       "    </tr>\n",
       "    <tr>\n",
       "      <th>2</th>\n",
       "      <td>retained</td>\n",
       "      <td>114</td>\n",
       "      <td>95</td>\n",
       "      <td>135.522926</td>\n",
       "      <td>2651</td>\n",
       "      <td>0</td>\n",
       "      <td>0</td>\n",
       "      <td>3059.148818</td>\n",
       "      <td>1610.735904</td>\n",
       "      <td>14</td>\n",
       "      <td>8</td>\n",
       "      <td>Android</td>\n",
       "    </tr>\n",
       "    <tr>\n",
       "      <th>3</th>\n",
       "      <td>retained</td>\n",
       "      <td>49</td>\n",
       "      <td>40</td>\n",
       "      <td>67.589221</td>\n",
       "      <td>15</td>\n",
       "      <td>322</td>\n",
       "      <td>7</td>\n",
       "      <td>913.591123</td>\n",
       "      <td>587.196542</td>\n",
       "      <td>7</td>\n",
       "      <td>3</td>\n",
       "      <td>iPhone</td>\n",
       "    </tr>\n",
       "    <tr>\n",
       "      <th>4</th>\n",
       "      <td>retained</td>\n",
       "      <td>84</td>\n",
       "      <td>68</td>\n",
       "      <td>168.247020</td>\n",
       "      <td>1562</td>\n",
       "      <td>166</td>\n",
       "      <td>5</td>\n",
       "      <td>3950.202008</td>\n",
       "      <td>1219.555924</td>\n",
       "      <td>27</td>\n",
       "      <td>18</td>\n",
       "      <td>Android</td>\n",
       "    </tr>\n",
       "  </tbody>\n",
       "</table>\n",
       "</div>"
      ],
      "text/plain": [
       "      label  sessions  drives  total_sessions  n_days_after_onboarding  \\\n",
       "0  retained       283     226      296.748273                     2276   \n",
       "1  retained       133     107      326.896596                     1225   \n",
       "2  retained       114      95      135.522926                     2651   \n",
       "3  retained        49      40       67.589221                       15   \n",
       "4  retained        84      68      168.247020                     1562   \n",
       "\n",
       "   total_navigations_fav1  total_navigations_fav2  driven_km_drives  \\\n",
       "0                     208                       0       2628.845068   \n",
       "1                      19                      64      13715.920550   \n",
       "2                       0                       0       3059.148818   \n",
       "3                     322                       7        913.591123   \n",
       "4                     166                       5       3950.202008   \n",
       "\n",
       "   duration_minutes_drives  activity_days  driving_days   device  \n",
       "0              1985.775061             28            19  Android  \n",
       "1              3160.472914             13            11   iPhone  \n",
       "2              1610.735904             14             8  Android  \n",
       "3               587.196542              7             3   iPhone  \n",
       "4              1219.555924             27            18  Android  "
      ]
     },
     "execution_count": 23,
     "metadata": {},
     "output_type": "execute_result"
    }
   ],
   "source": [
    "data.head()"
   ]
  },
  {
   "cell_type": "markdown",
   "id": "c8f2b01f",
   "metadata": {},
   "source": [
    "### Now the ID column has been droped "
   ]
  },
  {
   "cell_type": "code",
   "execution_count": 33,
   "id": "9de669d5",
   "metadata": {},
   "outputs": [],
   "source": [
    "# Segmenting Data (separating our input from our output dataset) by using the function 'pop' or any other\n",
    "#y = data.pop('driven_km_drives')\n",
    "# OR\n",
    "y = data['driven_km_drives']\n",
    "data.drop('driven_km_drives', axis=1, inplace=True)\n"
   ]
  },
  {
   "cell_type": "code",
   "execution_count": 32,
   "id": "f6340af0",
   "metadata": {},
   "outputs": [
    {
     "data": {
      "text/html": [
       "<div>\n",
       "<style scoped>\n",
       "    .dataframe tbody tr th:only-of-type {\n",
       "        vertical-align: middle;\n",
       "    }\n",
       "\n",
       "    .dataframe tbody tr th {\n",
       "        vertical-align: top;\n",
       "    }\n",
       "\n",
       "    .dataframe thead th {\n",
       "        text-align: right;\n",
       "    }\n",
       "</style>\n",
       "<table border=\"1\" class=\"dataframe\">\n",
       "  <thead>\n",
       "    <tr style=\"text-align: right;\">\n",
       "      <th></th>\n",
       "      <th>sessions</th>\n",
       "      <th>drives</th>\n",
       "      <th>total_sessions</th>\n",
       "      <th>n_days_after_onboarding</th>\n",
       "      <th>total_navigations_fav1</th>\n",
       "      <th>total_navigations_fav2</th>\n",
       "      <th>duration_minutes_drives</th>\n",
       "      <th>activity_days</th>\n",
       "      <th>driving_days</th>\n",
       "      <th>label_churned</th>\n",
       "      <th>label_retained</th>\n",
       "      <th>device_Android</th>\n",
       "      <th>device_iPhone</th>\n",
       "    </tr>\n",
       "  </thead>\n",
       "  <tbody>\n",
       "    <tr>\n",
       "      <th>0</th>\n",
       "      <td>283</td>\n",
       "      <td>226</td>\n",
       "      <td>296.748273</td>\n",
       "      <td>2276</td>\n",
       "      <td>208</td>\n",
       "      <td>0</td>\n",
       "      <td>1985.775061</td>\n",
       "      <td>28</td>\n",
       "      <td>19</td>\n",
       "      <td>0</td>\n",
       "      <td>1</td>\n",
       "      <td>1</td>\n",
       "      <td>0</td>\n",
       "    </tr>\n",
       "    <tr>\n",
       "      <th>1</th>\n",
       "      <td>133</td>\n",
       "      <td>107</td>\n",
       "      <td>326.896596</td>\n",
       "      <td>1225</td>\n",
       "      <td>19</td>\n",
       "      <td>64</td>\n",
       "      <td>3160.472914</td>\n",
       "      <td>13</td>\n",
       "      <td>11</td>\n",
       "      <td>0</td>\n",
       "      <td>1</td>\n",
       "      <td>0</td>\n",
       "      <td>1</td>\n",
       "    </tr>\n",
       "    <tr>\n",
       "      <th>2</th>\n",
       "      <td>114</td>\n",
       "      <td>95</td>\n",
       "      <td>135.522926</td>\n",
       "      <td>2651</td>\n",
       "      <td>0</td>\n",
       "      <td>0</td>\n",
       "      <td>1610.735904</td>\n",
       "      <td>14</td>\n",
       "      <td>8</td>\n",
       "      <td>0</td>\n",
       "      <td>1</td>\n",
       "      <td>1</td>\n",
       "      <td>0</td>\n",
       "    </tr>\n",
       "    <tr>\n",
       "      <th>3</th>\n",
       "      <td>49</td>\n",
       "      <td>40</td>\n",
       "      <td>67.589221</td>\n",
       "      <td>15</td>\n",
       "      <td>322</td>\n",
       "      <td>7</td>\n",
       "      <td>587.196542</td>\n",
       "      <td>7</td>\n",
       "      <td>3</td>\n",
       "      <td>0</td>\n",
       "      <td>1</td>\n",
       "      <td>0</td>\n",
       "      <td>1</td>\n",
       "    </tr>\n",
       "    <tr>\n",
       "      <th>4</th>\n",
       "      <td>84</td>\n",
       "      <td>68</td>\n",
       "      <td>168.247020</td>\n",
       "      <td>1562</td>\n",
       "      <td>166</td>\n",
       "      <td>5</td>\n",
       "      <td>1219.555924</td>\n",
       "      <td>27</td>\n",
       "      <td>18</td>\n",
       "      <td>0</td>\n",
       "      <td>1</td>\n",
       "      <td>1</td>\n",
       "      <td>0</td>\n",
       "    </tr>\n",
       "    <tr>\n",
       "      <th>...</th>\n",
       "      <td>...</td>\n",
       "      <td>...</td>\n",
       "      <td>...</td>\n",
       "      <td>...</td>\n",
       "      <td>...</td>\n",
       "      <td>...</td>\n",
       "      <td>...</td>\n",
       "      <td>...</td>\n",
       "      <td>...</td>\n",
       "      <td>...</td>\n",
       "      <td>...</td>\n",
       "      <td>...</td>\n",
       "      <td>...</td>\n",
       "    </tr>\n",
       "    <tr>\n",
       "      <th>14994</th>\n",
       "      <td>60</td>\n",
       "      <td>55</td>\n",
       "      <td>207.875622</td>\n",
       "      <td>140</td>\n",
       "      <td>317</td>\n",
       "      <td>0</td>\n",
       "      <td>2186.155708</td>\n",
       "      <td>25</td>\n",
       "      <td>17</td>\n",
       "      <td>0</td>\n",
       "      <td>1</td>\n",
       "      <td>0</td>\n",
       "      <td>1</td>\n",
       "    </tr>\n",
       "    <tr>\n",
       "      <th>14995</th>\n",
       "      <td>42</td>\n",
       "      <td>35</td>\n",
       "      <td>187.670313</td>\n",
       "      <td>2505</td>\n",
       "      <td>15</td>\n",
       "      <td>10</td>\n",
       "      <td>1208.583193</td>\n",
       "      <td>25</td>\n",
       "      <td>20</td>\n",
       "      <td>0</td>\n",
       "      <td>1</td>\n",
       "      <td>1</td>\n",
       "      <td>0</td>\n",
       "    </tr>\n",
       "    <tr>\n",
       "      <th>14996</th>\n",
       "      <td>273</td>\n",
       "      <td>219</td>\n",
       "      <td>422.017241</td>\n",
       "      <td>1873</td>\n",
       "      <td>17</td>\n",
       "      <td>0</td>\n",
       "      <td>1031.278706</td>\n",
       "      <td>18</td>\n",
       "      <td>17</td>\n",
       "      <td>0</td>\n",
       "      <td>1</td>\n",
       "      <td>0</td>\n",
       "      <td>1</td>\n",
       "    </tr>\n",
       "    <tr>\n",
       "      <th>14997</th>\n",
       "      <td>149</td>\n",
       "      <td>120</td>\n",
       "      <td>180.524184</td>\n",
       "      <td>3150</td>\n",
       "      <td>45</td>\n",
       "      <td>0</td>\n",
       "      <td>254.187763</td>\n",
       "      <td>6</td>\n",
       "      <td>6</td>\n",
       "      <td>1</td>\n",
       "      <td>0</td>\n",
       "      <td>0</td>\n",
       "      <td>1</td>\n",
       "    </tr>\n",
       "    <tr>\n",
       "      <th>14998</th>\n",
       "      <td>73</td>\n",
       "      <td>58</td>\n",
       "      <td>353.419797</td>\n",
       "      <td>3383</td>\n",
       "      <td>13</td>\n",
       "      <td>51</td>\n",
       "      <td>3042.436423</td>\n",
       "      <td>14</td>\n",
       "      <td>13</td>\n",
       "      <td>0</td>\n",
       "      <td>1</td>\n",
       "      <td>0</td>\n",
       "      <td>1</td>\n",
       "    </tr>\n",
       "  </tbody>\n",
       "</table>\n",
       "<p>14299 rows × 13 columns</p>\n",
       "</div>"
      ],
      "text/plain": [
       "       sessions  drives  total_sessions  n_days_after_onboarding  \\\n",
       "0           283     226      296.748273                     2276   \n",
       "1           133     107      326.896596                     1225   \n",
       "2           114      95      135.522926                     2651   \n",
       "3            49      40       67.589221                       15   \n",
       "4            84      68      168.247020                     1562   \n",
       "...         ...     ...             ...                      ...   \n",
       "14994        60      55      207.875622                      140   \n",
       "14995        42      35      187.670313                     2505   \n",
       "14996       273     219      422.017241                     1873   \n",
       "14997       149     120      180.524184                     3150   \n",
       "14998        73      58      353.419797                     3383   \n",
       "\n",
       "       total_navigations_fav1  total_navigations_fav2  \\\n",
       "0                         208                       0   \n",
       "1                          19                      64   \n",
       "2                           0                       0   \n",
       "3                         322                       7   \n",
       "4                         166                       5   \n",
       "...                       ...                     ...   \n",
       "14994                     317                       0   \n",
       "14995                      15                      10   \n",
       "14996                      17                       0   \n",
       "14997                      45                       0   \n",
       "14998                      13                      51   \n",
       "\n",
       "       duration_minutes_drives  activity_days  driving_days  label_churned  \\\n",
       "0                  1985.775061             28            19              0   \n",
       "1                  3160.472914             13            11              0   \n",
       "2                  1610.735904             14             8              0   \n",
       "3                   587.196542              7             3              0   \n",
       "4                  1219.555924             27            18              0   \n",
       "...                        ...            ...           ...            ...   \n",
       "14994              2186.155708             25            17              0   \n",
       "14995              1208.583193             25            20              0   \n",
       "14996              1031.278706             18            17              0   \n",
       "14997               254.187763              6             6              1   \n",
       "14998              3042.436423             14            13              0   \n",
       "\n",
       "       label_retained  device_Android  device_iPhone  \n",
       "0                   1               1              0  \n",
       "1                   1               0              1  \n",
       "2                   1               1              0  \n",
       "3                   1               0              1  \n",
       "4                   1               1              0  \n",
       "...               ...             ...            ...  \n",
       "14994               1               0              1  \n",
       "14995               1               1              0  \n",
       "14996               1               0              1  \n",
       "14997               0               0              1  \n",
       "14998               1               0              1  \n",
       "\n",
       "[14299 rows x 13 columns]"
      ]
     },
     "execution_count": 32,
     "metadata": {},
     "output_type": "execute_result"
    }
   ],
   "source": [
    "# Encoding of categorical features to numerical ones\n",
    "data = pd.get_dummies(data)\n",
    "data"
   ]
  },
  {
   "cell_type": "code",
   "execution_count": 34,
   "id": "7d6f4cb6",
   "metadata": {},
   "outputs": [],
   "source": [
    "# Normalizaiton of the dataset\n",
    "# first we import the scaler object\n",
    "from sklearn.preprocessing import RobustScaler,MinMaxScaler"
   ]
  },
  {
   "cell_type": "code",
   "execution_count": 35,
   "id": "132116a7",
   "metadata": {},
   "outputs": [
    {
     "data": {
      "text/html": [
       "<div>\n",
       "<style scoped>\n",
       "    .dataframe tbody tr th:only-of-type {\n",
       "        vertical-align: middle;\n",
       "    }\n",
       "\n",
       "    .dataframe tbody tr th {\n",
       "        vertical-align: top;\n",
       "    }\n",
       "\n",
       "    .dataframe thead th {\n",
       "        text-align: right;\n",
       "    }\n",
       "</style>\n",
       "<table border=\"1\" class=\"dataframe\">\n",
       "  <thead>\n",
       "    <tr style=\"text-align: right;\">\n",
       "      <th></th>\n",
       "      <th>sessions</th>\n",
       "      <th>drives</th>\n",
       "      <th>total_sessions</th>\n",
       "      <th>n_days_after_onboarding</th>\n",
       "      <th>total_navigations_fav1</th>\n",
       "      <th>total_navigations_fav2</th>\n",
       "      <th>duration_minutes_drives</th>\n",
       "      <th>activity_days</th>\n",
       "      <th>driving_days</th>\n",
       "      <th>label_churned</th>\n",
       "      <th>label_retained</th>\n",
       "      <th>device_Android</th>\n",
       "      <th>device_iPhone</th>\n",
       "    </tr>\n",
       "  </thead>\n",
       "  <tbody>\n",
       "    <tr>\n",
       "      <th>0</th>\n",
       "      <td>2.579545</td>\n",
       "      <td>2.438356</td>\n",
       "      <td>0.846378</td>\n",
       "      <td>0.301315</td>\n",
       "      <td>0.815476</td>\n",
       "      <td>-0.209302</td>\n",
       "      <td>0.311284</td>\n",
       "      <td>0.800000</td>\n",
       "      <td>0.500000</td>\n",
       "      <td>0.0</td>\n",
       "      <td>0.0</td>\n",
       "      <td>1.0</td>\n",
       "      <td>-1.0</td>\n",
       "    </tr>\n",
       "    <tr>\n",
       "      <th>1</th>\n",
       "      <td>0.875000</td>\n",
       "      <td>0.808219</td>\n",
       "      <td>1.031244</td>\n",
       "      <td>-0.299600</td>\n",
       "      <td>-0.309524</td>\n",
       "      <td>1.279070</td>\n",
       "      <td>1.033399</td>\n",
       "      <td>-0.200000</td>\n",
       "      <td>-0.071429</td>\n",
       "      <td>0.0</td>\n",
       "      <td>0.0</td>\n",
       "      <td>0.0</td>\n",
       "      <td>0.0</td>\n",
       "    </tr>\n",
       "    <tr>\n",
       "      <th>2</th>\n",
       "      <td>0.659091</td>\n",
       "      <td>0.643836</td>\n",
       "      <td>-0.142232</td>\n",
       "      <td>0.515723</td>\n",
       "      <td>-0.422619</td>\n",
       "      <td>-0.209302</td>\n",
       "      <td>0.080739</td>\n",
       "      <td>-0.133333</td>\n",
       "      <td>-0.285714</td>\n",
       "      <td>0.0</td>\n",
       "      <td>0.0</td>\n",
       "      <td>1.0</td>\n",
       "      <td>-1.0</td>\n",
       "    </tr>\n",
       "    <tr>\n",
       "      <th>3</th>\n",
       "      <td>-0.079545</td>\n",
       "      <td>-0.109589</td>\n",
       "      <td>-0.558792</td>\n",
       "      <td>-0.991424</td>\n",
       "      <td>1.494048</td>\n",
       "      <td>-0.046512</td>\n",
       "      <td>-0.548455</td>\n",
       "      <td>-0.600000</td>\n",
       "      <td>-0.642857</td>\n",
       "      <td>0.0</td>\n",
       "      <td>0.0</td>\n",
       "      <td>0.0</td>\n",
       "      <td>0.0</td>\n",
       "    </tr>\n",
       "    <tr>\n",
       "      <th>4</th>\n",
       "      <td>0.318182</td>\n",
       "      <td>0.273973</td>\n",
       "      <td>0.058427</td>\n",
       "      <td>-0.106918</td>\n",
       "      <td>0.565476</td>\n",
       "      <td>-0.093023</td>\n",
       "      <td>-0.159729</td>\n",
       "      <td>0.733333</td>\n",
       "      <td>0.428571</td>\n",
       "      <td>0.0</td>\n",
       "      <td>0.0</td>\n",
       "      <td>1.0</td>\n",
       "      <td>-1.0</td>\n",
       "    </tr>\n",
       "    <tr>\n",
       "      <th>...</th>\n",
       "      <td>...</td>\n",
       "      <td>...</td>\n",
       "      <td>...</td>\n",
       "      <td>...</td>\n",
       "      <td>...</td>\n",
       "      <td>...</td>\n",
       "      <td>...</td>\n",
       "      <td>...</td>\n",
       "      <td>...</td>\n",
       "      <td>...</td>\n",
       "      <td>...</td>\n",
       "      <td>...</td>\n",
       "      <td>...</td>\n",
       "    </tr>\n",
       "    <tr>\n",
       "      <th>14294</th>\n",
       "      <td>0.045455</td>\n",
       "      <td>0.095890</td>\n",
       "      <td>0.301424</td>\n",
       "      <td>-0.919954</td>\n",
       "      <td>1.464286</td>\n",
       "      <td>-0.209302</td>\n",
       "      <td>0.434463</td>\n",
       "      <td>0.600000</td>\n",
       "      <td>0.357143</td>\n",
       "      <td>0.0</td>\n",
       "      <td>0.0</td>\n",
       "      <td>0.0</td>\n",
       "      <td>0.0</td>\n",
       "    </tr>\n",
       "    <tr>\n",
       "      <th>14295</th>\n",
       "      <td>-0.159091</td>\n",
       "      <td>-0.178082</td>\n",
       "      <td>0.177528</td>\n",
       "      <td>0.432247</td>\n",
       "      <td>-0.333333</td>\n",
       "      <td>0.023256</td>\n",
       "      <td>-0.166474</td>\n",
       "      <td>0.600000</td>\n",
       "      <td>0.571429</td>\n",
       "      <td>0.0</td>\n",
       "      <td>0.0</td>\n",
       "      <td>1.0</td>\n",
       "      <td>-1.0</td>\n",
       "    </tr>\n",
       "    <tr>\n",
       "      <th>14296</th>\n",
       "      <td>2.465909</td>\n",
       "      <td>2.342466</td>\n",
       "      <td>1.614510</td>\n",
       "      <td>0.070898</td>\n",
       "      <td>-0.321429</td>\n",
       "      <td>-0.209302</td>\n",
       "      <td>-0.275467</td>\n",
       "      <td>0.133333</td>\n",
       "      <td>0.357143</td>\n",
       "      <td>0.0</td>\n",
       "      <td>0.0</td>\n",
       "      <td>0.0</td>\n",
       "      <td>0.0</td>\n",
       "    </tr>\n",
       "    <tr>\n",
       "      <th>14297</th>\n",
       "      <td>1.056818</td>\n",
       "      <td>0.986301</td>\n",
       "      <td>0.133709</td>\n",
       "      <td>0.801029</td>\n",
       "      <td>-0.154762</td>\n",
       "      <td>-0.209302</td>\n",
       "      <td>-0.753163</td>\n",
       "      <td>-0.666667</td>\n",
       "      <td>-0.428571</td>\n",
       "      <td>1.0</td>\n",
       "      <td>-1.0</td>\n",
       "      <td>0.0</td>\n",
       "      <td>0.0</td>\n",
       "    </tr>\n",
       "    <tr>\n",
       "      <th>14298</th>\n",
       "      <td>0.193182</td>\n",
       "      <td>0.136986</td>\n",
       "      <td>1.193880</td>\n",
       "      <td>0.934248</td>\n",
       "      <td>-0.345238</td>\n",
       "      <td>0.976744</td>\n",
       "      <td>0.960839</td>\n",
       "      <td>-0.133333</td>\n",
       "      <td>0.071429</td>\n",
       "      <td>0.0</td>\n",
       "      <td>0.0</td>\n",
       "      <td>0.0</td>\n",
       "      <td>0.0</td>\n",
       "    </tr>\n",
       "  </tbody>\n",
       "</table>\n",
       "<p>14299 rows × 13 columns</p>\n",
       "</div>"
      ],
      "text/plain": [
       "       sessions    drives  total_sessions  n_days_after_onboarding  \\\n",
       "0      2.579545  2.438356        0.846378                 0.301315   \n",
       "1      0.875000  0.808219        1.031244                -0.299600   \n",
       "2      0.659091  0.643836       -0.142232                 0.515723   \n",
       "3     -0.079545 -0.109589       -0.558792                -0.991424   \n",
       "4      0.318182  0.273973        0.058427                -0.106918   \n",
       "...         ...       ...             ...                      ...   \n",
       "14294  0.045455  0.095890        0.301424                -0.919954   \n",
       "14295 -0.159091 -0.178082        0.177528                 0.432247   \n",
       "14296  2.465909  2.342466        1.614510                 0.070898   \n",
       "14297  1.056818  0.986301        0.133709                 0.801029   \n",
       "14298  0.193182  0.136986        1.193880                 0.934248   \n",
       "\n",
       "       total_navigations_fav1  total_navigations_fav2  \\\n",
       "0                    0.815476               -0.209302   \n",
       "1                   -0.309524                1.279070   \n",
       "2                   -0.422619               -0.209302   \n",
       "3                    1.494048               -0.046512   \n",
       "4                    0.565476               -0.093023   \n",
       "...                       ...                     ...   \n",
       "14294                1.464286               -0.209302   \n",
       "14295               -0.333333                0.023256   \n",
       "14296               -0.321429               -0.209302   \n",
       "14297               -0.154762               -0.209302   \n",
       "14298               -0.345238                0.976744   \n",
       "\n",
       "       duration_minutes_drives  activity_days  driving_days  label_churned  \\\n",
       "0                     0.311284       0.800000      0.500000            0.0   \n",
       "1                     1.033399      -0.200000     -0.071429            0.0   \n",
       "2                     0.080739      -0.133333     -0.285714            0.0   \n",
       "3                    -0.548455      -0.600000     -0.642857            0.0   \n",
       "4                    -0.159729       0.733333      0.428571            0.0   \n",
       "...                        ...            ...           ...            ...   \n",
       "14294                 0.434463       0.600000      0.357143            0.0   \n",
       "14295                -0.166474       0.600000      0.571429            0.0   \n",
       "14296                -0.275467       0.133333      0.357143            0.0   \n",
       "14297                -0.753163      -0.666667     -0.428571            1.0   \n",
       "14298                 0.960839      -0.133333      0.071429            0.0   \n",
       "\n",
       "       label_retained  device_Android  device_iPhone  \n",
       "0                 0.0             1.0           -1.0  \n",
       "1                 0.0             0.0            0.0  \n",
       "2                 0.0             1.0           -1.0  \n",
       "3                 0.0             0.0            0.0  \n",
       "4                 0.0             1.0           -1.0  \n",
       "...               ...             ...            ...  \n",
       "14294             0.0             0.0            0.0  \n",
       "14295             0.0             1.0           -1.0  \n",
       "14296             0.0             0.0            0.0  \n",
       "14297            -1.0             0.0            0.0  \n",
       "14298             0.0             0.0            0.0  \n",
       "\n",
       "[14299 rows x 13 columns]"
      ]
     },
     "execution_count": 35,
     "metadata": {},
     "output_type": "execute_result"
    }
   ],
   "source": [
    "# Instantiate the scaler object\n",
    "scaler = RobustScaler()\n",
    "df_scale = pd.DataFrame(scaler.fit_transform(data), columns=data.columns)\n",
    "df_scale"
   ]
  },
  {
   "cell_type": "code",
   "execution_count": null,
   "id": "252b8a36",
   "metadata": {},
   "outputs": [],
   "source": []
  },
  {
   "cell_type": "code",
   "execution_count": 40,
   "id": "1ff744ed",
   "metadata": {},
   "outputs": [
    {
     "data": {
      "image/png": "[encoded data removed]",
      "text/plain": [
       "<Figure size 700x500 with 1 Axes>"
      ]
     },
     "metadata": {},
     "output_type": "display_data"
    }
   ],
   "source": [
    "#initiating the RandomForestRegressor\n",
    "\n",
    "from sklearn.ensemble import RandomForestRegressor\n",
    "\n",
    "\n",
    "feat_model = RandomForestRegressor()\n",
    "feat_model.fit(df_scale,y)\n",
    "\n",
    "feature_names = list(df_scale.columns)\n",
    "importance = feat_model.feature_importances_\n",
    "indices = np.argsort(importance)\n",
    "\n",
    "plt.figure(figsize=(7,5))\n",
    "plt.barh(range(len(indices)), importance[indices], color='green', align='center')\n",
    "plt.yticks(range(len(indices)), [feature_names[i] for i in indices])\n",
    "plt.xlabel(\"Relative Importance Chart\")\n",
    "plt.show()"
   ]
  },
  {
   "cell_type": "markdown",
   "id": "771ce19a",
   "metadata": {},
   "source": [
    "### Splitting our data into Training and Testing sets"
   ]
  },
  {
   "cell_type": "code",
   "execution_count": 43,
   "id": "5390f182",
   "metadata": {},
   "outputs": [],
   "source": [
    "# split data into train and test\n",
    "from sklearn.model_selection import train_test_split\n",
    "x_train,x_test,y_train,y_test = train_test_split(df_scale,y,test_size=0.3, random_state=1)\n"
   ]
  },
  {
   "cell_type": "code",
   "execution_count": 44,
   "id": "e57d4d33",
   "metadata": {},
   "outputs": [
    {
     "data": {
      "text/plain": [
       "((10009, 13), (4290, 13))"
      ]
     },
     "execution_count": 44,
     "metadata": {},
     "output_type": "execute_result"
    }
   ],
   "source": [
    "x_train.shape, x_test.shape"
   ]
  },
  {
   "cell_type": "markdown",
   "id": "0ae942f1",
   "metadata": {},
   "source": [
    "# Model Building"
   ]
  },
  {
   "cell_type": "code",
   "execution_count": 45,
   "id": "271bb2d9",
   "metadata": {},
   "outputs": [],
   "source": [
    "from sklearn.linear_model import LinearRegression\n",
    "from sklearn.tree import DecisionTreeRegressor\n",
    "from sklearn.ensemble import GradientBoostingRegressor"
   ]
  },
  {
   "cell_type": "code",
   "execution_count": 46,
   "id": "f9db1e31",
   "metadata": {},
   "outputs": [],
   "source": [
    "# Instatiate the models created. first create a variable for them\n",
    "\n",
    "lin_reg = LinearRegression()\n",
    "dec_tree = DecisionTreeRegressor()\n",
    "gboost_mod = GradientBoostingRegressor()\n"
   ]
  },
  {
   "cell_type": "code",
   "execution_count": 47,
   "id": "653b79d5",
   "metadata": {},
   "outputs": [
    {
     "data": {
      "text/html": [
       "<style>#sk-container-id-1 {color: black;}#sk-container-id-1 pre{padding: 0;}#sk-container-id-1 div.sk-toggleable {background-color: white;}#sk-container-id-1 label.sk-toggleable__label {cursor: pointer;display: block;width: 100%;margin-bottom: 0;padding: 0.3em;box-sizing: border-box;text-align: center;}#sk-container-id-1 label.sk-toggleable__label-arrow:before {content: \"▸\";float: left;margin-right: 0.25em;color: #696969;}#sk-container-id-1 label.sk-toggleable__label-arrow:hover:before {color: black;}#sk-container-id-1 div.sk-estimator:hover label.sk-toggleable__label-arrow:before {color: black;}#sk-container-id-1 div.sk-toggleable__content {max-height: 0;max-width: 0;overflow: hidden;text-align: left;background-color: #f0f8ff;}#sk-container-id-1 div.sk-toggleable__content pre {margin: 0.2em;color: black;border-radius: 0.25em;background-color: #f0f8ff;}#sk-container-id-1 input.sk-toggleable__control:checked~div.sk-toggleable__content {max-height: 200px;max-width: 100%;overflow: auto;}#sk-container-id-1 input.sk-toggleable__control:checked~label.sk-toggleable__label-arrow:before {content: \"▾\";}#sk-container-id-1 div.sk-estimator input.sk-toggleable__control:checked~label.sk-toggleable__label {background-color: #d4ebff;}#sk-container-id-1 div.sk-label input.sk-toggleable__control:checked~label.sk-toggleable__label {background-color: #d4ebff;}#sk-container-id-1 input.sk-hidden--visually {border: 0;clip: rect(1px 1px 1px 1px);clip: rect(1px, 1px, 1px, 1px);height: 1px;margin: -1px;overflow: hidden;padding: 0;position: absolute;width: 1px;}#sk-container-id-1 div.sk-estimator {font-family: monospace;background-color: #f0f8ff;border: 1px dotted black;border-radius: 0.25em;box-sizing: border-box;margin-bottom: 0.5em;}#sk-container-id-1 div.sk-estimator:hover {background-color: #d4ebff;}#sk-container-id-1 div.sk-parallel-item::after {content: \"\";width: 100%;border-bottom: 1px solid gray;flex-grow: 1;}#sk-container-id-1 div.sk-label:hover label.sk-toggleable__label {background-color: #d4ebff;}#sk-container-id-1 div.sk-serial::before {content: \"\";position: absolute;border-left: 1px solid gray;box-sizing: border-box;top: 0;bottom: 0;left: 50%;z-index: 0;}#sk-container-id-1 div.sk-serial {display: flex;flex-direction: column;align-items: center;background-color: white;padding-right: 0.2em;padding-left: 0.2em;position: relative;}#sk-container-id-1 div.sk-item {position: relative;z-index: 1;}#sk-container-id-1 div.sk-parallel {display: flex;align-items: stretch;justify-content: center;background-color: white;position: relative;}#sk-container-id-1 div.sk-item::before, #sk-container-id-1 div.sk-parallel-item::before {content: \"\";position: absolute;border-left: 1px solid gray;box-sizing: border-box;top: 0;bottom: 0;left: 50%;z-index: -1;}#sk-container-id-1 div.sk-parallel-item {display: flex;flex-direction: column;z-index: 1;position: relative;background-color: white;}#sk-container-id-1 div.sk-parallel-item:first-child::after {align-self: flex-end;width: 50%;}#sk-container-id-1 div.sk-parallel-item:last-child::after {align-self: flex-start;width: 50%;}#sk-container-id-1 div.sk-parallel-item:only-child::after {width: 0;}#sk-container-id-1 div.sk-dashed-wrapped {border: 1px dashed gray;margin: 0 0.4em 0.5em 0.4em;box-sizing: border-box;padding-bottom: 0.4em;background-color: white;}#sk-container-id-1 div.sk-label label {font-family: monospace;font-weight: bold;display: inline-block;line-height: 1.2em;}#sk-container-id-1 div.sk-label-container {text-align: center;}#sk-container-id-1 div.sk-container {/* jupyter's `normalize.less` sets `[hidden] { display: none; }` but bootstrap.min.css set `[hidden] { display: none !important; }` so we also need the `!important` here to be able to override the default hidden behavior on the sphinx rendered scikit-learn.org. See: https://github.com/scikit-learn/scikit-learn/issues/21755 */display: inline-block !important;position: relative;}#sk-container-id-1 div.sk-text-repr-fallback {display: none;}</style><div id=\"sk-container-id-1\" class=\"sk-top-container\"><div class=\"sk-text-repr-fallback\"><pre>GradientBoostingRegressor()</pre><b>In a Jupyter environment, please rerun this cell to show the HTML representation or trust the notebook. <br />On GitHub, the HTML representation is unable to render, please try loading this page with nbviewer.org.</b></div><div class=\"sk-container\" hidden><div class=\"sk-item\"><div class=\"sk-estimator sk-toggleable\"><input class=\"sk-toggleable__control sk-hidden--visually\" id=\"sk-estimator-id-1\" type=\"checkbox\" checked><label for=\"sk-estimator-id-1\" class=\"sk-toggleable__label sk-toggleable__label-arrow\">GradientBoostingRegressor</label><div class=\"sk-toggleable__content\"><pre>GradientBoostingRegressor()</pre></div></div></div></div></div>"
      ],
      "text/plain": [
       "GradientBoostingRegressor()"
      ]
     },
     "execution_count": 47,
     "metadata": {},
     "output_type": "execute_result"
    }
   ],
   "source": [
    "# Fit the models and train the models with our training dataset\n",
    "lin_reg.fit(x_train,y_train)\n",
    "dec_tree.fit(x_train,y_train)\n",
    "gboost_mod.fit(x_train,y_train)"
   ]
  },
  {
   "cell_type": "code",
   "execution_count": 48,
   "id": "2a6f0ef2",
   "metadata": {},
   "outputs": [],
   "source": [
    "# creating prediction files for our models\n",
    "lin_pred = lin_reg.predict(x_test)\n",
    "dec_pred = dec_tree.predict(x_test)\n",
    "gboost_pred = gboost_mod.predict(x_test)"
   ]
  },
  {
   "cell_type": "code",
   "execution_count": 49,
   "id": "0faa2d1c",
   "metadata": {},
   "outputs": [
    {
     "data": {
      "text/plain": [
       "array([2793.67781682, 2901.19505912, 4107.04395781, ..., 3432.94392159,\n",
       "       4363.49278719, 7074.76323126])"
      ]
     },
     "execution_count": 49,
     "metadata": {},
     "output_type": "execute_result"
    }
   ],
   "source": [
    "gboost_pred"
   ]
  },
  {
   "cell_type": "markdown",
   "id": "b1ff3837",
   "metadata": {},
   "source": [
    "# Phase 3\n",
    "- Model evaluation and interpretation\n",
    "- metrics to use for classification problems, regression\n",
    "\n",
    "Evaluation metrics= confusion matrix, MSE, MAE, RSME, r2_score, classification report"
   ]
  },
  {
   "cell_type": "code",
   "execution_count": 50,
   "id": "6fd879db",
   "metadata": {},
   "outputs": [],
   "source": [
    "from sklearn.metrics import mean_squared_error, r2_score"
   ]
  },
  {
   "cell_type": "code",
   "execution_count": 51,
   "id": "7837e16f",
   "metadata": {},
   "outputs": [
    {
     "name": "stdout",
     "output_type": "stream",
     "text": [
      "for the Logistic regression model r2 score 0.46673180207800025\n",
      "for the Logistic regression model mse score 3383409.9238340505\n",
      "for the Logistic regression model rmse score 1839.4047743316453\n"
     ]
    }
   ],
   "source": [
    "# Evaluate models using the validation dataset for the LinearRegression model\n",
    "mse = mean_squared_error(y_test, lin_pred)\n",
    "rmse = np.sqrt(mse)\n",
    "r2 = r2_score(y_test, lin_pred)\n",
    "\n",
    "print(f\"for the Logistic regression model r2 score {r2}\")\n",
    "print(f\"for the Logistic regression model mse score {mse}\")\n",
    "print(f\"for the Logistic regression model rmse score {rmse}\")\n",
    "\n"
   ]
  },
  {
   "cell_type": "code",
   "execution_count": 52,
   "id": "42d6babb",
   "metadata": {},
   "outputs": [
    {
     "name": "stdout",
     "output_type": "stream",
     "text": [
      "for the Logistic regression model r2 score -0.15537773810218058\n",
      "for the Logistic regression model mse score 7330488.711129997\n",
      "for the Logistic regression model rmse score 2707.487527419101\n"
     ]
    }
   ],
   "source": [
    "# Evaluate models using the validation dataset for DecisionTreeRegressor model\n",
    "mse = mean_squared_error(y_test, dec_pred)\n",
    "rmse = np.sqrt(mse)\n",
    "r2 = r2_score(y_test, dec_pred)\n",
    "\n",
    "print(f\"for the Logistic regression model r2 score {r2}\")\n",
    "print(f\"for the Logistic regression model mse score {mse}\")\n",
    "print(f\"for the Logistic regression model rmse score {rmse}\")\n"
   ]
  },
  {
   "cell_type": "code",
   "execution_count": 53,
   "id": "6ecfe316",
   "metadata": {},
   "outputs": [
    {
     "name": "stdout",
     "output_type": "stream",
     "text": [
      "for the Logistic regression model r2 score 0.4586723300608363\n",
      "for the Logistic regression model mse score 3434544.601862842\n",
      "for the Logistic regression model rmse score 1853.2524387850788\n"
     ]
    }
   ],
   "source": [
    "# Evaluate models using the validation dataset for GradientBoostingRegressor model\n",
    "mse = mean_squared_error(y_test, gboost_pred)\n",
    "rmse = np.sqrt(mse)\n",
    "r2 = r2_score(y_test, gboost_pred)\n",
    "\n",
    "print(f\"for the Logistic regression model r2 score {r2}\")\n",
    "print(f\"for the Logistic regression model mse score {mse}\")\n",
    "print(f\"for the Logistic regression model rmse score {rmse}\")"
   ]
  },
  {
   "cell_type": "code",
   "execution_count": 58,
   "id": "3c4a0b8b",
   "metadata": {},
   "outputs": [
    {
     "data": {
      "text/plain": [
       "<Axes: title={'center': 'Modal Coefficeints'}>"
      ]
     },
     "execution_count": 58,
     "metadata": {},
     "output_type": "execute_result"
    },
    {
     "data": {
      "image/png": "[encoded data removed]",
      "text/plain": [
       "<Figure size 640x480 with 1 Axes>"
      ]
     },
     "metadata": {},
     "output_type": "display_data"
    }
   ],
   "source": [
    "# Visualizing model coefficients\n",
    "from pandas import Series\n",
    "predictors = x_train.columns\n",
    "coef = Series(lin_reg.coef_,predictors).sort_values()\n",
    "coef.plot(kind='bar', title='Modal Coefficeints')"
   ]
  },
  {
   "cell_type": "code",
   "execution_count": null,
   "id": "e8a5e802",
   "metadata": {},
   "outputs": [],
   "source": []
  },
  {
   "cell_type": "markdown",
   "id": "9848c800",
   "metadata": {},
   "source": [
    "## Phase 4\n",
    "Hyperparameter Optimization and productionizing our model\n",
    "- hyperparameter opt. is the art and science of improving our model's performances. Think of hyperparameter opt as some configurations, or settings you can implement or tweak that can improve your model's performance. \n",
    "- this is the last stage of the machine learning pipeline, and the main aim here points to how the users use the model. there are alot of ways an ML model can be used. \n",
    "\n",
    "-- it can be embedded into an application to be used by users online via an API on web interfaces or on mobile devices it can be used to create reports or dashboards that will be used by the organization in making key business decisions it can be consumed via streaming or batch method "
   ]
  },
  {
   "cell_type": "markdown",
   "id": "24fbc81e",
   "metadata": {},
   "source": [
    "#### in this case scenario, we will simulate the use of the model on a new dataset and use it to make relevant predictions"
   ]
  },
  {
   "cell_type": "code",
   "execution_count": 62,
   "id": "349fcf90",
   "metadata": {},
   "outputs": [
    {
     "ename": "NameError",
     "evalue": "name 'score' is not defined",
     "output_type": "error",
     "traceback": [
      "\u001b[1;31m---------------------------------------------------------------------------\u001b[0m",
      "\u001b[1;31mNameError\u001b[0m                                 Traceback (most recent call last)",
      "Cell \u001b[1;32mIn[62], line 14\u001b[0m\n\u001b[0;32m     12\u001b[0m \u001b[38;5;66;03m# Find the best hyperparameter combination to optimize the R2 metric\u001b[39;00m\n\u001b[0;32m     13\u001b[0m socre \u001b[38;5;241m=\u001b[39m make_scorer(r2_score)\n\u001b[1;32m---> 14\u001b[0m gridsearch \u001b[38;5;241m=\u001b[39m GridSearchCV(alg, params, scoring\u001b[38;5;241m=\u001b[39mscore, cv\u001b[38;5;241m=\u001b[39m\u001b[38;5;241m3\u001b[39m, return_train_score\u001b[38;5;241m=\u001b[39m\u001b[38;5;28;01mTrue\u001b[39;00m)\n\u001b[0;32m     15\u001b[0m gridsearch\u001b[38;5;241m.\u001b[39mfit(x_train, y_train)\n\u001b[0;32m     16\u001b[0m \u001b[38;5;28mprint\u001b[39m(\u001b[38;5;124m\"\u001b[39m\u001b[38;5;124mBest Parameter combination:\u001b[39m\u001b[38;5;124m\"\u001b[39m, gridsearch\u001b[38;5;241m.\u001b[39mbest_params_, \u001b[38;5;124m\"\u001b[39m\u001b[38;5;130;01m\\n\u001b[39;00m\u001b[38;5;124m)\u001b[39m\u001b[38;5;124m\"\u001b[39m)\n",
      "\u001b[1;31mNameError\u001b[0m: name 'score' is not defined"
     ]
    }
   ],
   "source": [
    "from sklearn.model_selection import GridSearchCV\n",
    "from sklearn.metrics import make_scorer, r2_score\n",
    "\n",
    "# Use Gradient Boosting Algorithm\n",
    "alg = gboost_mod\n",
    "\n",
    "#Try these Hyperparameter values\n",
    "params = {\n",
    "    'learning_rate': [0.1, 0.5, 1.0],\n",
    "    'n_estimator': [50, 100, 150]}\n",
    "\n",
    "# Find the best hyperparameter combination to optimize the R2 metric\n",
    "socre = make_scorer(r2_score)\n",
    "gridsearch = GridSearchCV(alg, params, scoring=score, cv=3, return_train_score=True)\n",
    "gridsearch.fit(x_train, y_train)\n",
    "print(\"Best Parameter combination:\", gridsearch.best_params_, \"\\n)\")\n",
    "\n",
    "\n",
    "# Measuring performance on the test set\n",
    "print(\"Applying best model on the test data:\")\n",
    "best_mod = gridsearch.best_estimator_\n",
    "pred = best_mod.predict(x_test)"
   ]
  },
  {
   "cell_type": "code",
   "execution_count": 63,
   "id": "2fbe37f4",
   "metadata": {},
   "outputs": [
    {
     "name": "stdout",
     "output_type": "stream",
     "text": [
      "for the Logistic regression model r2 score 0.4586723300608363\n",
      "for the Logistic regression model mse score 3434544.601862842\n",
      "for the Logistic regression model rmse score 1853.2524387850788\n"
     ]
    }
   ],
   "source": [
    "# Evaluate models using the test data and isntantiating our hyperparemter estimations\n",
    "mse = mean_squared_error(y_test, gboost_pred)\n",
    "rmse = np.sqrt(mse)\n",
    "r2 = r2_score(y_test, gboost_pred)\n",
    "\n",
    "print(f\"for the Logistic regression model r2 score {r2}\")\n",
    "print(f\"for the Logistic regression model mse score {mse}\")\n",
    "print(f\"for the Logistic regression model rmse score {rmse}\")"
   ]
  },
  {
   "cell_type": "code",
   "execution_count": 64,
   "id": "a8f7062c",
   "metadata": {},
   "outputs": [
    {
     "data": {
      "text/plain": [
       "['./best_model.pkl']"
      ]
     },
     "execution_count": 64,
     "metadata": {},
     "output_type": "execute_result"
    }
   ],
   "source": [
    "# To productionalize your model\n",
    "import joblib\n",
    "filename = './best_model.pkl'\n",
    "\n",
    "joblib.dump(lin_reg, filename)"
   ]
  },
  {
   "cell_type": "code",
   "execution_count": null,
   "id": "e3b35680",
   "metadata": {},
   "outputs": [],
   "source": []
  }
 ],
 "metadata": {
  "kernelspec": {
   "display_name": "Python 3 (ipykernel)",
   "language": "python",
   "name": "python3"
  },
  "language_info": {
   "codemirror_mode": {
    "name": "ipython",
    "version": 3
   },
   "file_extension": ".py",
   "mimetype": "text/x-python",
   "name": "python",
   "nbconvert_exporter": "python",
   "pygments_lexer": "ipython3",
   "version": "3.11.4"
  }
 },
 "nbformat": 4,
 "nbformat_minor": 5
}
